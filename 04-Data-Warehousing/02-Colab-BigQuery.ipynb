{
  "nbformat": 4,
  "nbformat_minor": 0,
  "metadata": {
    "colab": {
      "name": "Untitled0.ipynb",
      "provenance": []
    },
    "kernelspec": {
      "name": "python3",
      "display_name": "Python 3"
    },
    "language_info": {
      "name": "python"
    }
  },
  "cells": [
    {
      "cell_type": "markdown",
      "metadata": {
        "id": "WZYC5ly0l9ef"
      },
      "source": [
        "# Accessing BigQuery from Colab\n",
        "This notebook shows the simple steps needed to enable BigQuery access from a Colab notebook.\n",
        "\n",
        "First, we need to authenticate this notebook so we get access to our Google Cloud account. Follow these steps:\n",
        "1. Execute the cell below\n",
        "2. Click on the provided URL\n",
        "3. Select the account you wish to give access to\n",
        "4. Allow access\n",
        "5. Copy the passcode and past it in the box provided under the cell below\n"
      ]
    },
    {
      "cell_type": "code",
      "metadata": {
        "id": "jTj_LvoFR_la"
      },
      "source": [
        "from google.colab import auth\n",
        "auth.authenticate_user()"
      ],
      "execution_count": 1,
      "outputs": []
    },
    {
      "cell_type": "markdown",
      "metadata": {
        "id": "1nAmGEf4mnWu"
      },
      "source": [
        "## Using `bigquery` magic function\n",
        "You will need to specify which project this query will be billed to by providing `--project=<PROJECT-ID>`. You will need to replace your project ID with `<PROJECT-ID>`. Using this magic function, your cell becomes entirely a *BigQuery* cell and no longer operates as a *python* cell.\n",
        "\n",
        "Below is a simple example:"
      ]
    },
    {
      "cell_type": "code",
      "metadata": {
        "colab": {
          "base_uri": "https://localhost:8080/",
          "height": 204
        },
        "id": "ojHy6RpDSJ5P",
        "outputId": "9c149dfe-408c-4737-fd52-2563f42fa62e"
      },
      "source": [
        "%%bigquery --project=ba-770\n",
        "SELECT corpus, SUM(word_count) total_word_count\n",
        "FROM `bigquery-public-data.samples.shakespeare` \n",
        "GROUP BY corpus\n",
        "ORDER BY total_word_count DESC\n",
        "LIMIT 5"
      ],
      "execution_count": 2,
      "outputs": [
        {
          "output_type": "execute_result",
          "data": {
            "text/html": [
              "<div>\n",
              "<style scoped>\n",
              "    .dataframe tbody tr th:only-of-type {\n",
              "        vertical-align: middle;\n",
              "    }\n",
              "\n",
              "    .dataframe tbody tr th {\n",
              "        vertical-align: top;\n",
              "    }\n",
              "\n",
              "    .dataframe thead th {\n",
              "        text-align: right;\n",
              "    }\n",
              "</style>\n",
              "<table border=\"1\" class=\"dataframe\">\n",
              "  <thead>\n",
              "    <tr style=\"text-align: right;\">\n",
              "      <th></th>\n",
              "      <th>corpus</th>\n",
              "      <th>total_word_count</th>\n",
              "    </tr>\n",
              "  </thead>\n",
              "  <tbody>\n",
              "    <tr>\n",
              "      <th>0</th>\n",
              "      <td>hamlet</td>\n",
              "      <td>32446</td>\n",
              "    </tr>\n",
              "    <tr>\n",
              "      <th>1</th>\n",
              "      <td>kingrichardiii</td>\n",
              "      <td>31868</td>\n",
              "    </tr>\n",
              "    <tr>\n",
              "      <th>2</th>\n",
              "      <td>coriolanus</td>\n",
              "      <td>29535</td>\n",
              "    </tr>\n",
              "    <tr>\n",
              "      <th>3</th>\n",
              "      <td>cymbeline</td>\n",
              "      <td>29231</td>\n",
              "    </tr>\n",
              "    <tr>\n",
              "      <th>4</th>\n",
              "      <td>2kinghenryiv</td>\n",
              "      <td>28241</td>\n",
              "    </tr>\n",
              "  </tbody>\n",
              "</table>\n",
              "</div>"
            ],
            "text/plain": [
              "           corpus  total_word_count\n",
              "0          hamlet             32446\n",
              "1  kingrichardiii             31868\n",
              "2      coriolanus             29535\n",
              "3       cymbeline             29231\n",
              "4    2kinghenryiv             28241"
            ]
          },
          "metadata": {
            "tags": []
          },
          "execution_count": 2
        }
      ]
    }
  ]
}